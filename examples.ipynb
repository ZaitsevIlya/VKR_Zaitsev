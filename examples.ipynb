{
 "cells": [
  {
   "cell_type": "markdown",
   "metadata": {},
   "source": [
    "## Установка библиотек"
   ]
  },
  {
   "cell_type": "code",
   "execution_count": null,
   "metadata": {},
   "outputs": [],
   "source": [
    "pip install -r requirements.txt"
   ]
  },
  {
   "cell_type": "markdown",
   "metadata": {},
   "source": [
    "## abbreviations.py"
   ]
  },
  {
   "cell_type": "code",
   "execution_count": null,
   "metadata": {},
   "outputs": [],
   "source": [
    "import abbreviations as abbs"
   ]
  },
  {
   "cell_type": "code",
   "execution_count": null,
   "metadata": {},
   "outputs": [
    {
     "data": {
      "text/plain": [
       "'строка для расшифровки сокращений в формате с точкой и тире'"
      ]
     },
     "execution_count": 2,
     "metadata": {},
     "output_type": "execute_result"
    }
   ],
   "source": [
    "my_str = 'строка для расшифр. сокращений в фор-те с точкой и тире'\n",
    "abbs.unmasking(my_str, False)"
   ]
  },
  {
   "cell_type": "markdown",
   "metadata": {},
   "source": [
    "## group-metrics.py (Межгрупповые метрики)"
   ]
  },
  {
   "cell_type": "code",
   "execution_count": null,
   "metadata": {},
   "outputs": [],
   "source": [
    "import pandas as pd\n",
    "import json\n",
    "import intergroup_metrics as intergm"
   ]
  },
  {
   "cell_type": "code",
   "execution_count": null,
   "metadata": {},
   "outputs": [],
   "source": [
    "path = 'C:\\\\Users\\\\izait\\\\PycharmProjects\\\\NSI_Clusterization\\\\'\n",
    "with open(path + 'preprocessed-vectors.json', 'r') as f:\n",
    "  vectors = json.load(f)\n",
    "\n",
    "df_vec = pd.DataFrame()\n",
    "strs = []\n",
    "vecs = []\n",
    "for vec in vectors:\n",
    "  strs.append(list(vec.keys())[0])\n",
    "  vecs.append(list(vec.values())[0])\n",
    "df_vec['str'] = strs\n",
    "df_vec['vec'] = vecs\n",
    "\n",
    "data = pd.read_excel(path + 'AgglomerativeClustering-6-0.12.xlsx', engine='openpyxl')\n",
    "\n",
    "data['vec'] = [None]*len(data)\n",
    "for i in range(len(data)):\n",
    "  find = df_vec.loc[df_vec['str'] == data.at[i, 'str']]\n",
    "  if(len(find)) > 0:\n",
    "    data.at[i, 'vec'] = find['vec'].values[0]\n",
    "\n",
    "\n",
    "all_data_path = path + 'AgglomerativeClustering-6-0.12.xlsx'\n",
    "metrics_dir = path + 'intergroup_metrics_1/'"
   ]
  },
  {
   "cell_type": "code",
   "execution_count": null,
   "metadata": {},
   "outputs": [
    {
     "data": {
      "text/html": [
       "<div>\n",
       "<style scoped>\n",
       "    .dataframe tbody tr th:only-of-type {\n",
       "        vertical-align: middle;\n",
       "    }\n",
       "\n",
       "    .dataframe tbody tr th {\n",
       "        vertical-align: top;\n",
       "    }\n",
       "\n",
       "    .dataframe thead th {\n",
       "        text-align: right;\n",
       "    }\n",
       "</style>\n",
       "<table border=\"1\" class=\"dataframe\">\n",
       "  <thead>\n",
       "    <tr style=\"text-align: right;\">\n",
       "      <th></th>\n",
       "      <th>str</th>\n",
       "      <th>res</th>\n",
       "      <th>vec</th>\n",
       "    </tr>\n",
       "  </thead>\n",
       "  <tbody>\n",
       "    <tr>\n",
       "      <th>0</th>\n",
       "      <td>химик эксперт медицинской организации</td>\n",
       "      <td>1</td>\n",
       "      <td>[-0.017794255167245865, 0.0030331118032336235,...</td>\n",
       "    </tr>\n",
       "    <tr>\n",
       "      <th>1</th>\n",
       "      <td>химикэксперт</td>\n",
       "      <td>1</td>\n",
       "      <td>[-0.017794255167245865, 0.0030331118032336235,...</td>\n",
       "    </tr>\n",
       "    <tr>\n",
       "      <th>2</th>\n",
       "      <td>химик</td>\n",
       "      <td>1</td>\n",
       "      <td>[-0.017794255167245865, 0.0030331118032336235,...</td>\n",
       "    </tr>\n",
       "    <tr>\n",
       "      <th>3</th>\n",
       "      <td>хирург по экстренной помощи</td>\n",
       "      <td>2</td>\n",
       "      <td>[-0.012539812363684177, 0.006569608114659786, ...</td>\n",
       "    </tr>\n",
       "    <tr>\n",
       "      <th>4</th>\n",
       "      <td>хирург поликлиники</td>\n",
       "      <td>2</td>\n",
       "      <td>[-0.012539812363684177, 0.006569608114659786, ...</td>\n",
       "    </tr>\n",
       "    <tr>\n",
       "      <th>...</th>\n",
       "      <td>...</td>\n",
       "      <td>...</td>\n",
       "      <td>...</td>\n",
       "    </tr>\n",
       "    <tr>\n",
       "      <th>17586</th>\n",
       "      <td>ведущий гидротехник</td>\n",
       "      <td>961</td>\n",
       "      <td>[-0.013202344998717308, 0.004911646246910095, ...</td>\n",
       "    </tr>\n",
       "    <tr>\n",
       "      <th>17587</th>\n",
       "      <td>ведущий инженер механик</td>\n",
       "      <td>961</td>\n",
       "      <td>[-0.01990106701850891, 0.0007311906665563583, ...</td>\n",
       "    </tr>\n",
       "    <tr>\n",
       "      <th>17588</th>\n",
       "      <td>ведущий механик</td>\n",
       "      <td>961</td>\n",
       "      <td>[-0.020123548805713654, 0.010632703080773354, ...</td>\n",
       "    </tr>\n",
       "    <tr>\n",
       "      <th>17589</th>\n",
       "      <td>ведущий специалист группа организации исполнен...</td>\n",
       "      <td>962</td>\n",
       "      <td>[-0.025616127997636795, -0.008415975607931614,...</td>\n",
       "    </tr>\n",
       "    <tr>\n",
       "      <th>17590</th>\n",
       "      <td>ведущий специалист группа по контролю за реали...</td>\n",
       "      <td>962</td>\n",
       "      <td>[-0.01543505396693945, -0.0012826846214011312,...</td>\n",
       "    </tr>\n",
       "  </tbody>\n",
       "</table>\n",
       "<p>17591 rows × 3 columns</p>\n",
       "</div>"
      ],
      "text/plain": [
       "                                                     str  res  \\\n",
       "0                  химик эксперт медицинской организации    1   \n",
       "1                                           химикэксперт    1   \n",
       "2                                                  химик    1   \n",
       "3                            хирург по экстренной помощи    2   \n",
       "4                                     хирург поликлиники    2   \n",
       "...                                                  ...  ...   \n",
       "17586                                ведущий гидротехник  961   \n",
       "17587                            ведущий инженер механик  961   \n",
       "17588                                    ведущий механик  961   \n",
       "17589  ведущий специалист группа организации исполнен...  962   \n",
       "17590  ведущий специалист группа по контролю за реали...  962   \n",
       "\n",
       "                                                     vec  \n",
       "0      [-0.017794255167245865, 0.0030331118032336235,...  \n",
       "1      [-0.017794255167245865, 0.0030331118032336235,...  \n",
       "2      [-0.017794255167245865, 0.0030331118032336235,...  \n",
       "3      [-0.012539812363684177, 0.006569608114659786, ...  \n",
       "4      [-0.012539812363684177, 0.006569608114659786, ...  \n",
       "...                                                  ...  \n",
       "17586  [-0.013202344998717308, 0.004911646246910095, ...  \n",
       "17587  [-0.01990106701850891, 0.0007311906665563583, ...  \n",
       "17588  [-0.020123548805713654, 0.010632703080773354, ...  \n",
       "17589  [-0.025616127997636795, -0.008415975607931614,...  \n",
       "17590  [-0.01543505396693945, -0.0012826846214011312,...  \n",
       "\n",
       "[17591 rows x 3 columns]"
      ]
     },
     "execution_count": 9,
     "metadata": {},
     "output_type": "execute_result"
    }
   ],
   "source": [
    "data"
   ]
  },
  {
   "cell_type": "code",
   "execution_count": null,
   "metadata": {},
   "outputs": [
    {
     "name": "stderr",
     "output_type": "stream",
     "text": [
      "100%|█████████▉| 962/963 [00:00<00:00, 6205.05it/s]\n",
      "78it [00:34,  2.26it/s]                        \n"
     ]
    },
    {
     "data": {
      "text/html": [
       "<div>\n",
       "<style scoped>\n",
       "    .dataframe tbody tr th:only-of-type {\n",
       "        vertical-align: middle;\n",
       "    }\n",
       "\n",
       "    .dataframe tbody tr th {\n",
       "        vertical-align: top;\n",
       "    }\n",
       "\n",
       "    .dataframe thead th {\n",
       "        text-align: right;\n",
       "    }\n",
       "</style>\n",
       "<table border=\"1\" class=\"dataframe\">\n",
       "  <thead>\n",
       "    <tr style=\"text-align: right;\">\n",
       "      <th></th>\n",
       "      <th>i</th>\n",
       "      <th>j</th>\n",
       "      <th>min</th>\n",
       "      <th>max</th>\n",
       "      <th>min_ex1</th>\n",
       "      <th>min_ex2</th>\n",
       "      <th>max_ex1</th>\n",
       "      <th>max_ex2</th>\n",
       "    </tr>\n",
       "  </thead>\n",
       "  <tbody>\n",
       "    <tr>\n",
       "      <th>0</th>\n",
       "      <td>108</td>\n",
       "      <td>114</td>\n",
       "      <td>0.098523</td>\n",
       "      <td>0.195634</td>\n",
       "      <td>санитарка уборщица дневной стационар при стаци...</td>\n",
       "      <td>уборщица колопроктологического отделения</td>\n",
       "      <td>санитарка по перевозке больных</td>\n",
       "      <td>уборщик служебного помещения процедурного каби...</td>\n",
       "    </tr>\n",
       "    <tr>\n",
       "      <th>1</th>\n",
       "      <td>108</td>\n",
       "      <td>358</td>\n",
       "      <td>0.112735</td>\n",
       "      <td>0.213965</td>\n",
       "      <td>санитарка уборщица дневной стационар при стаци...</td>\n",
       "      <td>уборщица аптеки</td>\n",
       "      <td>санитар</td>\n",
       "      <td>заведующий аптечным отделением готовых лекарст...</td>\n",
       "    </tr>\n",
       "    <tr>\n",
       "      <th>2</th>\n",
       "      <td>108</td>\n",
       "      <td>371</td>\n",
       "      <td>0.144926</td>\n",
       "      <td>0.215796</td>\n",
       "      <td>санитарка уборщица дневной стационар при стаци...</td>\n",
       "      <td>уборщик дерматовенерологического кабинета</td>\n",
       "      <td>ясанитарка</td>\n",
       "      <td>заведующий структурного подразделения медицинс...</td>\n",
       "    </tr>\n",
       "    <tr>\n",
       "      <th>3</th>\n",
       "      <td>108</td>\n",
       "      <td>515</td>\n",
       "      <td>0.129994</td>\n",
       "      <td>0.209598</td>\n",
       "      <td>санитарка уборщица дневной стационар при стаци...</td>\n",
       "      <td>уборщица учебного корпуса № 1</td>\n",
       "      <td>ясанитарка</td>\n",
       "      <td>комендант учебного корпуса</td>\n",
       "    </tr>\n",
       "    <tr>\n",
       "      <th>4</th>\n",
       "      <td>108</td>\n",
       "      <td>543</td>\n",
       "      <td>0.151184</td>\n",
       "      <td>0.211319</td>\n",
       "      <td>санитарка уборщица дневной стационар при стаци...</td>\n",
       "      <td>слесарь по обслуживанию зданий</td>\n",
       "      <td>ясанитарка</td>\n",
       "      <td>рабочий по комплексному обслуживанию и текущем...</td>\n",
       "    </tr>\n",
       "    <tr>\n",
       "      <th>...</th>\n",
       "      <td>...</td>\n",
       "      <td>...</td>\n",
       "      <td>...</td>\n",
       "      <td>...</td>\n",
       "      <td>...</td>\n",
       "      <td>...</td>\n",
       "      <td>...</td>\n",
       "      <td>...</td>\n",
       "    </tr>\n",
       "    <tr>\n",
       "      <th>73</th>\n",
       "      <td>731</td>\n",
       "      <td>878</td>\n",
       "      <td>0.142145</td>\n",
       "      <td>0.213184</td>\n",
       "      <td>вахтер общежития</td>\n",
       "      <td>уборщик производственных помещений 1</td>\n",
       "      <td>вахтер колледжа</td>\n",
       "      <td>уборщик производственных и служебных помещений...</td>\n",
       "    </tr>\n",
       "    <tr>\n",
       "      <th>74</th>\n",
       "      <td>731</td>\n",
       "      <td>934</td>\n",
       "      <td>0.145186</td>\n",
       "      <td>0.219359</td>\n",
       "      <td>вахтер общежития</td>\n",
       "      <td>уборщик служебного помещения кабинета физиотер...</td>\n",
       "      <td>вахтер колледжа</td>\n",
       "      <td>уборщик служебного помещения кабинета фукциона...</td>\n",
       "    </tr>\n",
       "    <tr>\n",
       "      <th>75</th>\n",
       "      <td>859</td>\n",
       "      <td>878</td>\n",
       "      <td>0.109842</td>\n",
       "      <td>0.173847</td>\n",
       "      <td>уборщица хирургического отделения</td>\n",
       "      <td>уборщик служебных производственных помещенний ...</td>\n",
       "      <td>заведующий отделением врач пластический хирург</td>\n",
       "      <td>уборщик производственных и служебных помещений...</td>\n",
       "    </tr>\n",
       "    <tr>\n",
       "      <th>76</th>\n",
       "      <td>859</td>\n",
       "      <td>934</td>\n",
       "      <td>0.057734</td>\n",
       "      <td>0.147273</td>\n",
       "      <td>уборщица хирургического кабинета</td>\n",
       "      <td>уборщик служебного помещения кабинета физиотер...</td>\n",
       "      <td>отделение общей реконструктивной и пластическо...</td>\n",
       "      <td>уборщик служебного помещения кабинета ультрозв...</td>\n",
       "    </tr>\n",
       "    <tr>\n",
       "      <th>77</th>\n",
       "      <td>878</td>\n",
       "      <td>934</td>\n",
       "      <td>0.059409</td>\n",
       "      <td>0.127886</td>\n",
       "      <td>уборщик производственных и служебных помещений...</td>\n",
       "      <td>уборщик производственных и служебных помещений...</td>\n",
       "      <td>уборщик производственных и служебных помещений...</td>\n",
       "      <td>уборщик служебного помещения кабинета ультрозв...</td>\n",
       "    </tr>\n",
       "  </tbody>\n",
       "</table>\n",
       "<p>78 rows × 8 columns</p>\n",
       "</div>"
      ],
      "text/plain": [
       "      i    j       min       max  \\\n",
       "0   108  114  0.098523  0.195634   \n",
       "1   108  358  0.112735  0.213965   \n",
       "2   108  371  0.144926  0.215796   \n",
       "3   108  515  0.129994  0.209598   \n",
       "4   108  543  0.151184  0.211319   \n",
       "..  ...  ...       ...       ...   \n",
       "73  731  878  0.142145  0.213184   \n",
       "74  731  934  0.145186  0.219359   \n",
       "75  859  878  0.109842  0.173847   \n",
       "76  859  934  0.057734  0.147273   \n",
       "77  878  934  0.059409  0.127886   \n",
       "\n",
       "                                              min_ex1  \\\n",
       "0   санитарка уборщица дневной стационар при стаци...   \n",
       "1   санитарка уборщица дневной стационар при стаци...   \n",
       "2   санитарка уборщица дневной стационар при стаци...   \n",
       "3   санитарка уборщица дневной стационар при стаци...   \n",
       "4   санитарка уборщица дневной стационар при стаци...   \n",
       "..                                                ...   \n",
       "73                                   вахтер общежития   \n",
       "74                                   вахтер общежития   \n",
       "75                  уборщица хирургического отделения   \n",
       "76                   уборщица хирургического кабинета   \n",
       "77  уборщик производственных и служебных помещений...   \n",
       "\n",
       "                                              min_ex2  \\\n",
       "0            уборщица колопроктологического отделения   \n",
       "1                                     уборщица аптеки   \n",
       "2           уборщик дерматовенерологического кабинета   \n",
       "3                       уборщица учебного корпуса № 1   \n",
       "4                      слесарь по обслуживанию зданий   \n",
       "..                                                ...   \n",
       "73               уборщик производственных помещений 1   \n",
       "74  уборщик служебного помещения кабинета физиотер...   \n",
       "75  уборщик служебных производственных помещенний ...   \n",
       "76  уборщик служебного помещения кабинета физиотер...   \n",
       "77  уборщик производственных и служебных помещений...   \n",
       "\n",
       "                                              max_ex1  \\\n",
       "0                      санитарка по перевозке больных   \n",
       "1                                             санитар   \n",
       "2                                          ясанитарка   \n",
       "3                                          ясанитарка   \n",
       "4                                          ясанитарка   \n",
       "..                                                ...   \n",
       "73                                    вахтер колледжа   \n",
       "74                                    вахтер колледжа   \n",
       "75     заведующий отделением врач пластический хирург   \n",
       "76  отделение общей реконструктивной и пластическо...   \n",
       "77  уборщик производственных и служебных помещений...   \n",
       "\n",
       "                                              max_ex2  \n",
       "0   уборщик служебного помещения процедурного каби...  \n",
       "1   заведующий аптечным отделением готовых лекарст...  \n",
       "2   заведующий структурного подразделения медицинс...  \n",
       "3                          комендант учебного корпуса  \n",
       "4   рабочий по комплексному обслуживанию и текущем...  \n",
       "..                                                ...  \n",
       "73  уборщик производственных и служебных помещений...  \n",
       "74  уборщик служебного помещения кабинета фукциона...  \n",
       "75  уборщик производственных и служебных помещений...  \n",
       "76  уборщик служебного помещения кабинета ультрозв...  \n",
       "77  уборщик служебного помещения кабинета ультрозв...  \n",
       "\n",
       "[78 rows x 8 columns]"
      ]
     },
     "execution_count": 4,
     "metadata": {},
     "output_type": "execute_result"
    }
   ],
   "source": [
    "intergm.by_prompt(data, 'уборщи', None)"
   ]
  },
  {
   "cell_type": "markdown",
   "metadata": {},
   "source": [
    "## clustering.py (составление эталона, кластеризация)"
   ]
  },
  {
   "cell_type": "code",
   "execution_count": 1,
   "metadata": {},
   "outputs": [
    {
     "name": "stderr",
     "output_type": "stream",
     "text": [
      "c:\\Users\\izait\\AppData\\Local\\Programs\\Python\\Python312\\Lib\\site-packages\\tqdm\\auto.py:21: TqdmWarning: IProgress not found. Please update jupyter and ipywidgets. See https://ipywidgets.readthedocs.io/en/stable/user_install.html\n",
      "  from .autonotebook import tqdm as notebook_tqdm\n",
      "Some weights of the model checkpoint at sberbank-ai/ruBert-base were not used when initializing BertForMaskedLM: ['bert.pooler.dense.bias', 'bert.pooler.dense.weight', 'cls.seq_relationship.bias', 'cls.seq_relationship.weight']\n",
      "- This IS expected if you are initializing BertForMaskedLM from the checkpoint of a model trained on another task or with another architecture (e.g. initializing a BertForSequenceClassification model from a BertForPreTraining model).\n",
      "- This IS NOT expected if you are initializing BertForMaskedLM from the checkpoint of a model that you expect to be exactly identical (initializing a BertForSequenceClassification model from a BertForSequenceClassification model).\n"
     ]
    },
    {
     "name": "stdout",
     "output_type": "stream",
     "text": [
      "cuda:0\n"
     ]
    }
   ],
   "source": [
    "import torch\n",
    "import json\n",
    "import clustering as CL"
   ]
  },
  {
   "cell_type": "code",
   "execution_count": 2,
   "metadata": {},
   "outputs": [],
   "source": [
    "path = 'C:\\\\Users\\\\izait\\\\PycharmProjects\\\\NSI_Clusterization\\\\'\n",
    "\n",
    "with open(path + \"preprocessed-vectors.json\", \"r\") as f:\n",
    "  embs = json.load(f)\n",
    "embeddings = []\n",
    "vals = []\n",
    "for d in embs:\n",
    "  key = list(d.keys())[0]\n",
    "  vals.append(list(d.keys())[0])\n",
    "  embeddings.append(d[key])\n",
    "embeddings = torch.Tensor(embeddings)"
   ]
  },
  {
   "cell_type": "code",
   "execution_count": null,
   "metadata": {},
   "outputs": [
    {
     "data": {
      "text/plain": [
       "tensor([[-0.0178,  0.0030, -0.0115,  ...,  0.0012,  0.0103, -0.0094],\n",
       "        [-0.0178,  0.0030, -0.0115,  ...,  0.0012,  0.0103, -0.0094],\n",
       "        [-0.0125,  0.0066, -0.0022,  ..., -0.0084,  0.0068,  0.0106],\n",
       "        ...,\n",
       "        [-0.0175,  0.0068, -0.0197,  ...,  0.0069,  0.0130,  0.0055],\n",
       "        [-0.0136, -0.0034, -0.0314,  ..., -0.0081,  0.0039,  0.0016],\n",
       "        [-0.0150, -0.0024, -0.0212,  ..., -0.0180,  0.0030,  0.0049]])"
      ]
     },
     "execution_count": 9,
     "metadata": {},
     "output_type": "execute_result"
    }
   ],
   "source": [
    "embeddings"
   ]
  },
  {
   "cell_type": "code",
   "execution_count": 3,
   "metadata": {},
   "outputs": [
    {
     "name": "stdout",
     "output_type": "stream",
     "text": [
      "17591\n",
      "torch.Size([17591, 1536])\n",
      "Shape torch.Size([17591, 1536])\n"
     ]
    }
   ],
   "source": [
    "#Векторизация при помощи заранее подготовленных embeddings\n",
    "#Строим полную кластеризацию (до достижения одного кластера)\n",
    "#Префикс = 6\n",
    "clust_mod = CL.UseAgglomerativeClustering(vals, 6, 0, embeddings)"
   ]
  },
  {
   "cell_type": "code",
   "execution_count": 4,
   "metadata": {},
   "outputs": [
    {
     "name": "stderr",
     "output_type": "stream",
     "text": [
      "c:\\Users\\izait\\AppData\\Local\\Programs\\Python\\Python312\\Lib\\site-packages\\huggingface_hub\\file_download.py:157: UserWarning: `huggingface_hub` cache-system uses symlinks by default to efficiently store duplicated files but your machine does not support them in C:\\Users\\izait\\.cache\\huggingface\\hub\\models--sentence-transformers--all-mpnet-base-v2. Caching files will still work but in a degraded version that might require more space on your disk. This warning can be disabled by setting the `HF_HUB_DISABLE_SYMLINKS_WARNING` environment variable. For more details, see https://huggingface.co/docs/huggingface_hub/how-to-cache#limitations.\n",
      "To support symlinks on Windows, you either need to activate Developer Mode or to run Python as an administrator. In order to see activate developer mode, see this article: https://docs.microsoft.com/en-us/windows/apps/get-started/enable-your-device-for-development\n",
      "  warnings.warn(message)\n"
     ]
    },
    {
     "name": "stdout",
     "output_type": "stream",
     "text": [
      "torch.Size([17591, 768])\n",
      "Shape torch.Size([17591, 768])\n"
     ]
    }
   ],
   "source": [
    "#Векторизация при помощи модели #3 (sentence-transformers/all-mpnet-base-v2)\n",
    "#Порог расстояния 0.2\n",
    "clust_mod = CL.UseAgglomerativeClustering(vals, 3, 0.2)"
   ]
  }
 ],
 "metadata": {
  "kernelspec": {
   "display_name": "Python 3",
   "language": "python",
   "name": "python3"
  },
  "language_info": {
   "codemirror_mode": {
    "name": "ipython",
    "version": 3
   },
   "file_extension": ".py",
   "mimetype": "text/x-python",
   "name": "python",
   "nbconvert_exporter": "python",
   "pygments_lexer": "ipython3",
   "version": "3.12.1"
  }
 },
 "nbformat": 4,
 "nbformat_minor": 2
}
